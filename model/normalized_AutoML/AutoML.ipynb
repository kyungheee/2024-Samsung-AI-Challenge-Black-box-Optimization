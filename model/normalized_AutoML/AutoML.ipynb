{
 "cells": [
  {
   "cell_type": "code",
   "execution_count": null,
   "metadata": {},
   "outputs": [],
   "source": [
    "import pandas as pd\n",
    "\n",
    "train = pd.read_csv('../../data/train.csv')\n",
    "test = pd.read_csv('../../data/test.csv')\n",
    "\n",
    "train.head()"
   ]
  },
  {
   "cell_type": "code",
   "execution_count": null,
   "metadata": {},
   "outputs": [],
   "source": [
    "train_X = train.drop(columns=['ID','y'])\n",
    "train_y = train['y']\n",
    "\n",
    "train_data = pd.concat([train_X, train_y], axis=1)"
   ]
  },
  {
   "cell_type": "code",
   "execution_count": null,
   "metadata": {},
   "outputs": [],
   "source": [
    "# normalize\n",
    "from sklearn.preprocessing import MinMaxScaler\n",
    "\n",
    "minmax = MinMaxScaler()\n",
    "\n",
    "train_X_nor = minmax.fit_transform(train_X)\n",
    "\n",
    "train_X_nor = pd.DataFrame(train_X_nor, columns=train_X.columns)\n",
    "\n",
    "train_data_nor = pd.concat([train_X_nor, train_y], axis=1) # 인덱스 불일치로 인한 결합 오류 방지\n"
   ]
  },
  {
   "cell_type": "code",
   "execution_count": null,
   "metadata": {},
   "outputs": [],
   "source": [
    "import sweetviz as sv\n",
    "\n",
    "report = sv.analyze(train_X_nor)\n",
    "report.show_html('report.html')\n"
   ]
  },
  {
   "cell_type": "code",
   "execution_count": 5,
   "metadata": {},
   "outputs": [],
   "source": [
    "import matplotlib.pyplot as plt\n",
    "import seaborn as sns\n",
    "\n",
    "# create histograms for each variables\n",
    "fig,axes = plt.subplots(4,3,figsize=(20,20))\n",
    "axes = axes.ravel() #  Converts a two-dimensional array to a one-dimensional array\n",
    "\n",
    "for i, col in enumerate(train):\n",
    "    sns.histplot(train[col], ax= axes[i], kde=True)\n",
    "    axes[i].set_title(f'Distribution of {col}')\n",
    "\n",
    "plt.tight_layout()\n",
    "plt.show()\n",
    "  \n",
    "# create box-plots for each variable\n",
    "fig,axes = plt.subplots(4,3,figsize=(20,20))\n",
    "axes = axes.ravel()\n",
    "\n",
    "for i, col in enumerate(train):\n",
    "    sns.boxplot(y=train[col], ax= axes[i])\n",
    "    axes[i].set_title(f'Box-plot of {col}')\n",
    "    \n",
    "plt.tight_layout()\n",
    "plt.show()"
   ]
  },
  {
   "cell_type": "code",
   "execution_count": null,
   "metadata": {},
   "outputs": [],
   "source": [
    "from pycaret.regression import setup, compare_models, pull, save_model, load_model, predict_model\n",
    "\n",
    "regressor = setup(data = train_data_nor, target='y', session_id=42)\n",
    "best_model = compare_models()\n",
    "results = pull()\n",
    "\n",
    "results"
   ]
  },
  {
   "cell_type": "code",
   "execution_count": null,
   "metadata": {},
   "outputs": [],
   "source": [
    "save_model(best_model, 'best_model')"
   ]
  },
  {
   "cell_type": "code",
   "execution_count": null,
   "metadata": {},
   "outputs": [],
   "source": [
    "test_X = test.drop(columns=['ID'])\n",
    "best_model = load_model('best_model')\n",
    "preds = predict_model(best_model, data = test_X)\n",
    "\n",
    "preds"
   ]
  },
  {
   "cell_type": "code",
   "execution_count": null,
   "metadata": {},
   "outputs": [],
   "source": [
    "submission = pd.read_csv('../../data/sample_submission.csv')\n",
    "submission['y'] = preds['prediction_label']\n",
    "submission.to_csv('../normalized_AutoML/nor_AutoML_submission.csv',index=False)"
   ]
  },
  {
   "cell_type": "code",
   "execution_count": null,
   "metadata": {},
   "outputs": [],
   "source": []
  }
 ],
 "metadata": {
  "kernelspec": {
   "display_name": "ss",
   "language": "python",
   "name": "python3"
  },
  "language_info": {
   "codemirror_mode": {
    "name": "ipython",
    "version": 3
   },
   "file_extension": ".py",
   "mimetype": "text/x-python",
   "name": "python",
   "nbconvert_exporter": "python",
   "pygments_lexer": "ipython3",
   "version": "3.9.19"
  }
 },
 "nbformat": 4,
 "nbformat_minor": 2
}
